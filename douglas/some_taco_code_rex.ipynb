{
 "cells": [
  {
   "cell_type": "code",
<<<<<<< HEAD:douglas/some_taco_code.ipynb
   "execution_count": 2,
   "metadata": {},
   "outputs": [],
   "source": [
    "taco = 'I want burrito'"
=======
   "execution_count": 4,
   "metadata": {},
   "outputs": [],
   "source": [
    "taco = 3"
>>>>>>> master:douglas/some_taco_code_DS.ipynb
   ]
  },
  {
   "cell_type": "code",
<<<<<<< HEAD:douglas/some_taco_code.ipynb
   "execution_count": 3,
=======
   "execution_count": 5,
>>>>>>> master:douglas/some_taco_code_DS.ipynb
   "metadata": {},
   "outputs": [
    {
     "name": "stdout",
     "output_type": "stream",
     "text": [
<<<<<<< HEAD:douglas/some_taco_code.ipynb
      "I want burrito\n"
=======
      "3\n"
>>>>>>> master:douglas/some_taco_code_DS.ipynb
     ]
    }
   ],
   "source": [
    "print(taco)"
   ]
  },
  {
   "cell_type": "code",
<<<<<<< HEAD:douglas/some_taco_code.ipynb
   "execution_count": 8,
=======
   "execution_count": 6,
>>>>>>> master:douglas/some_taco_code_DS.ipynb
   "metadata": {},
   "outputs": [
    {
     "data": {
      "text/plain": [
<<<<<<< HEAD:douglas/some_taco_code.ipynb
       "'I want burritoI want burrito'"
      ]
     },
     "execution_count": 8,
=======
       "9"
      ]
     },
     "execution_count": 6,
>>>>>>> master:douglas/some_taco_code_DS.ipynb
     "metadata": {},
     "output_type": "execute_result"
    }
   ],
   "source": [
<<<<<<< HEAD:douglas/some_taco_code.ipynb
    "taco + taco"
=======
    "taco * taco"
>>>>>>> master:douglas/some_taco_code_DS.ipynb
   ]
  },
  {
   "cell_type": "code",
   "execution_count": null,
   "metadata": {},
   "outputs": [],
   "source": []
  }
 ],
 "metadata": {
  "kernelspec": {
   "display_name": "Python 3",
   "language": "python",
   "name": "python3"
  },
  "language_info": {
   "codemirror_mode": {
    "name": "ipython",
    "version": 3
   },
   "file_extension": ".py",
   "mimetype": "text/x-python",
   "name": "python",
   "nbconvert_exporter": "python",
   "pygments_lexer": "ipython3",
   "version": "3.6.6"
  }
 },
 "nbformat": 4,
 "nbformat_minor": 2
}
